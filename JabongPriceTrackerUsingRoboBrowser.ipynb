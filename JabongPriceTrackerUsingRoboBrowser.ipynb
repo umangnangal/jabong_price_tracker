{
 "cells": [
  {
   "cell_type": "markdown",
   "metadata": {},
   "source": [
    "# Jabong Product Price Tracking Tool made using Robobrowser Library built on top of Requests and Beautifulsoup packages."
   ]
  },
  {
   "cell_type": "code",
   "execution_count": 1,
   "metadata": {},
   "outputs": [],
   "source": [
    "import lxml.html as html\n",
    "import requests\n",
    "import time\n",
    "import matplotlib\n",
    "import matplotlib.pyplot as plt\n",
    "import numpy as np\n",
    "from robobrowser import RoboBrowser\n",
    "from requests import Session\n",
    "session = Session()\n",
    "session.verify = False"
   ]
  },
  {
   "cell_type": "code",
   "execution_count": 2,
   "metadata": {},
   "outputs": [
    {
     "name": "stdout",
     "output_type": "stream",
     "text": [
      "Enter the url : https://www.jabong.com/us-polo-assn-navy-blue-textured-slim-fit-polo-t-shirt-5768294.htm\n"
     ]
    }
   ],
   "source": [
    "url = input(\"Enter the url : \")\n",
    "br = RoboBrowser(parser = 'lxml')"
   ]
  },
  {
   "cell_type": "code",
   "execution_count": 3,
   "metadata": {},
   "outputs": [
    {
     "name": "stdout",
     "output_type": "stream",
     "text": [
      "Product Brand : U.S. Polo Assn.\n",
      "Product Description : Navy Blue Textured Slim Fit Polo T-Shirt\n",
      "MRP of the product : 2399\n",
      "Current Selling Price : 839\n",
      "Additional Offer YES Bank:  Get 15% Instant discount on Min Spend of Rs.2500\n"
     ]
    }
   ],
   "source": [
    "import re\n",
    "br.open(url)\n",
    "\n",
    "brand = str(br.select('span.brand')[0])\n",
    "pat = r'.*>(.*)<.*'\n",
    "res = re.match(pat, brand)\n",
    "brand = res.group(1)\n",
    "\n",
    "product = str(br.select('span.product-title')[0])\n",
    "res = re.match(pat, product)\n",
    "product = res.group(1)\n",
    "\n",
    "mrp = str(br.select('span.standard-price')[1])\n",
    "res = re.match(pat, mrp)\n",
    "mrp = int(res.group(1))\n",
    "\n",
    "sp = str(br.select('span.actual-price')[0])\n",
    "res = re.match(pat, sp)\n",
    "sp = int(res.group(1))\n",
    "\n",
    "wallet = str(br.select('span.wallet-title')[0])\n",
    "res = re.match(pat, wallet)\n",
    "wallet = res.group(1)\n",
    "\n",
    "offer = str(br.select('span.wallet-desc')[0])\n",
    "res = re.match(pat, offer)\n",
    "offer = res.group(1)\n",
    "\n",
    "print('Product Brand : %s'%(brand))\n",
    "print('Product Description : %s'%(product))\n",
    "print('MRP of the product : %d'%(mrp))\n",
    "print('Current Selling Price : %d'%(sp))\n",
    "print('Additional Offer %s %s'%(wallet,offer))"
   ]
  },
  {
   "cell_type": "code",
   "execution_count": 5,
   "metadata": {},
   "outputs": [
    {
     "name": "stdout",
     "output_type": "stream",
     "text": [
      "-------------------------Tracking Started-------------------------\n",
      "Current Price : 839  YES Bank:  Get 15% Instant discount on Min Spend of Rs.2500\n",
      "Current Price : 839  YES Bank:  Get 15% Instant discount on Min Spend of Rs.2500\n",
      "Current Price : 839  YES Bank:  Get 15% Instant discount on Min Spend of Rs.2500\n",
      "Current Price : 839  YES Bank:  Get 15% Instant discount on Min Spend of Rs.2500\n",
      "Current Price : 839  YES Bank:  Get 15% Instant discount on Min Spend of Rs.2500\n",
      "Current Price : 839  YES Bank:  Get 15% Instant discount on Min Spend of Rs.2500\n",
      "Current Price : 839  YES Bank:  Get 15% Instant discount on Min Spend of Rs.2500\n",
      "Current Price : 839  YES Bank:  Get 15% Instant discount on Min Spend of Rs.2500\n",
      "Current Price : 839  YES Bank:  Get 15% Instant discount on Min Spend of Rs.2500\n"
     ]
    },
    {
     "data": {
      "image/png": "[encoded data removed]",
      "text/plain": [
       "<Figure size 432x288 with 1 Axes>"
      ]
     },
     "metadata": {},
     "output_type": "display_data"
    },
    {
     "data": {
      "text/plain": [
       "<Figure size 1440x1440 with 0 Axes>"
      ]
     },
     "metadata": {},
     "output_type": "display_data"
    }
   ],
   "source": [
    "print('-------------------------Tracking Started-------------------------')\n",
    "\n",
    "xaxis = []\n",
    "actual_price = []\n",
    "selling_price = []\n",
    "\n",
    "matplotlib.rc('font', size=8)\n",
    "matplotlib.rc('font', family='sans-serif')\n",
    "c=1\n",
    "while(c<10):\n",
    "    br.open(url)\n",
    "    \n",
    "    mrp = str(br.select('span.standard-price')[1])\n",
    "    res = re.match(pat, mrp)\n",
    "    mrp = int(res.group(1))\n",
    "\n",
    "    sp = str(br.select('span.actual-price')[0])\n",
    "    res = re.match(pat, sp)\n",
    "    sp = int(res.group(1))\n",
    "    \n",
    "    wallet = str(br.select('span.wallet-title')[0])\n",
    "    res = re.match(pat, wallet)\n",
    "    wallet = res.group(1)\n",
    "\n",
    "    offer = str(br.select('span.wallet-desc')[0])\n",
    "    res = re.match(pat, offer)\n",
    "    offer = res.group(1)\n",
    "    \n",
    "    actual_price.append(mrp)\n",
    "    selling_price.append(sp)\n",
    "    \n",
    "    t = time.strftime(\"%Y-%m-%d %H:%M:%S\", time.gmtime())\n",
    "    xaxis.append(t)\n",
    "    print('Current Price : %d  %s %s'%(sp, wallet, offer))\n",
    "    time.sleep(1)\n",
    "    c+=1\n",
    "\n",
    "x_pos = np.arange(len(xaxis))\n",
    "plt.title('Price Variation')\n",
    "plt.xlabel('Time')\n",
    "plt.ylabel('Price')\n",
    "plt.xticks(x_pos, xaxis, rotation=90)\n",
    "plt.plot(xaxis, actual_price , label='original')\n",
    "plt.plot(xaxis, selling_price , label='discounted', marker='o')\n",
    "plt.legend()\n",
    "plt.grid(color='lightblue', linestyle='-.')\n",
    "plt.tight_layout()\n",
    "plt.figure(figsize=(20,20))\n",
    "plt.savefig('output.png', dpi=600)"
   ]
  },
  {
   "cell_type": "code",
   "execution_count": null,
   "metadata": {},
   "outputs": [],
   "source": []
  }
 ],
 "metadata": {
  "kernelspec": {
   "display_name": "Python 3",
   "language": "python",
   "name": "python3"
  },
  "language_info": {
   "codemirror_mode": {
    "name": "ipython",
    "version": 3
   },
   "file_extension": ".py",
   "mimetype": "text/x-python",
   "name": "python",
   "nbconvert_exporter": "python",
   "pygments_lexer": "ipython3",
   "version": "3.6.5"
  }
 },
 "nbformat": 4,
 "nbformat_minor": 2
}
