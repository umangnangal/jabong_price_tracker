{
 "cells": [
  {
   "cell_type": "markdown",
   "metadata": {},
   "source": [
    "# Jabong Product Price Tracking Tool"
   ]
  },
  {
   "cell_type": "code",
   "execution_count": 73,
   "metadata": {},
   "outputs": [
    {
     "name": "stdout",
     "output_type": "stream",
     "text": [
      "Enter the product url here : https://www.jabong.com/us-polo-assn-yellow-solid-polo-t-shirt-4723022.htm\n"
     ]
    },
    {
     "ename": "IndexError",
     "evalue": "list index out of range",
     "output_type": "error",
     "traceback": [
      "\u001b[0;31m---------------------------------------------------------------------------\u001b[0m",
      "\u001b[0;31mIndexError\u001b[0m                                Traceback (most recent call last)",
      "\u001b[0;32m<ipython-input-73-f50c6568677a>\u001b[0m in \u001b[0;36m<module>\u001b[0;34m()\u001b[0m\n\u001b[1;32m     22\u001b[0m \u001b[0mbrand\u001b[0m \u001b[0;34m=\u001b[0m \u001b[0mbrand\u001b[0m\u001b[0;34m[\u001b[0m\u001b[0;36m0\u001b[0m\u001b[0;34m]\u001b[0m\u001b[0;34m.\u001b[0m\u001b[0mtext\u001b[0m\u001b[0;34m\u001b[0m\u001b[0m\n\u001b[1;32m     23\u001b[0m \u001b[0mproduct\u001b[0m \u001b[0;34m=\u001b[0m \u001b[0mproduct\u001b[0m\u001b[0;34m[\u001b[0m\u001b[0;36m0\u001b[0m\u001b[0;34m]\u001b[0m\u001b[0;34m.\u001b[0m\u001b[0mtext\u001b[0m\u001b[0;34m\u001b[0m\u001b[0m\n\u001b[0;32m---> 24\u001b[0;31m \u001b[0mmrp\u001b[0m \u001b[0;34m=\u001b[0m \u001b[0mint\u001b[0m\u001b[0;34m(\u001b[0m\u001b[0mmrp\u001b[0m\u001b[0;34m[\u001b[0m\u001b[0;36m0\u001b[0m\u001b[0;34m]\u001b[0m\u001b[0;34m.\u001b[0m\u001b[0mtext\u001b[0m\u001b[0;34m)\u001b[0m\u001b[0;34m\u001b[0m\u001b[0m\n\u001b[0m\u001b[1;32m     25\u001b[0m \u001b[0msp\u001b[0m \u001b[0;34m=\u001b[0m \u001b[0mint\u001b[0m\u001b[0;34m(\u001b[0m\u001b[0msp\u001b[0m\u001b[0;34m[\u001b[0m\u001b[0;36m0\u001b[0m\u001b[0;34m]\u001b[0m\u001b[0;34m.\u001b[0m\u001b[0mtext\u001b[0m\u001b[0;34m)\u001b[0m\u001b[0;34m\u001b[0m\u001b[0m\n\u001b[1;32m     26\u001b[0m \u001b[0mwallet\u001b[0m \u001b[0;34m=\u001b[0m \u001b[0mwallet\u001b[0m\u001b[0;34m[\u001b[0m\u001b[0;36m0\u001b[0m\u001b[0;34m]\u001b[0m\u001b[0;34m.\u001b[0m\u001b[0mtext\u001b[0m\u001b[0;34m\u001b[0m\u001b[0m\n",
      "\u001b[0;31mIndexError\u001b[0m: list index out of range"
     ]
    }
   ],
   "source": [
    "import lxml.html as html\n",
    "import requests\n",
    "import time\n",
    "import matplotlib\n",
    "import matplotlib.pyplot as plt\n",
    "import numpy as np\n",
    "matplotlib.style.use('bmh')\n",
    "product_url = input('Enter the product url here : ')\n",
    "\n",
    "xaxis = []\n",
    "actual_price = []\n",
    "selling_price = []\n",
    "site = requests.get(product_url)\n",
    "\n",
    "brand = html.fromstring(site.text).xpath(\".//body/section[@class='jabong-container']/section[@class='main-content']/div[@id='product-details-wrapper']/div[@class='row product-details  ']/div[@class='full-width col-xs-12 col-sm-12 col-md-4 product-info']/div[@class='info-block']/div[@class='content']/h1/span[@class='brand']\")\n",
    "product = html.fromstring(site.text).xpath(\".//body/section[@class='jabong-container']/section[@class='main-content']/div[@id='product-details-wrapper']/div[@class='row product-details  ']/div[@class='full-width col-xs-12 col-sm-12 col-md-4 product-info']/div[@class='info-block']/div[@class='content']/h1/span[@class='product-title']\")\n",
    "mrp = html.fromstring(site.text).xpath(\".//body/section[@class='jabong-container']/section[@class='main-content']/div[@id='product-details-wrapper']/div[@class='row product-details  ']/div[@class='full-width col-xs-12 col-sm-12 col-md-4 product-info']/div[@class='info-block']/div[@class='content']/div[@itemprop='offers']/div[@class='price discounts']/span[@class='standard-price  hidden']\")\n",
    "sp = html.fromstring(site.text).xpath(\".//body/section[@class='jabong-container']/section[@class='main-content']/div[@id='product-details-wrapper']/div[@class='row product-details  ']/div[@class='full-width col-xs-12 col-sm-12 col-md-4 product-info']/div[@class='info-block']/div[@class='content']/div[@itemprop='offers']/div[@class='price discounts']/span[@class='actual-price']\")\n",
    "wallet = html.fromstring(site.text).xpath(\".//body/section[@class='jabong-container']/section[@class='main-content']/div[@id='product-details-wrapper']/div[@class='row product-details  ']/div[@class='full-width col-xs-12 col-sm-12 col-md-4 product-info']/div[@class='info-block']/div[@class='content']/div[@itemprop='offers']/div[@class='bank-combo-offers']/div/div[@class='bank-offers']/div/span[@class='wallet-title']\")\n",
    "offer = html.fromstring(site.text).xpath(\".//body/section[@class='jabong-container']/section[@class='main-content']/div[@id='product-details-wrapper']/div[@class='row product-details  ']/div[@class='full-width col-xs-12 col-sm-12 col-md-4 product-info']/div[@class='info-block']/div[@class='content']/div[@itemprop='offers']/div[@class='bank-combo-offers']/div/div[@class='bank-offers']/div/span[@class='wallet-desc']\")\n",
    "\n",
    "brand = brand[0].text\n",
    "product = product[0].text\n",
    "mrp = int(mrp[0].text)\n",
    "sp = int(sp[0].text)\n",
    "wallet = wallet[0].text\n",
    "offer = offer[0].text\n",
    "\n",
    "if site.ok:\n",
    "    print('URL is valid')\n",
    "else:\n",
    "    print(\"Invalid URL !!! Please check your internet connection.\")\n",
    "\n",
    "print('Product Brand : %s'%(brand))\n",
    "print('Product Description : %s'%(product))\n",
    "print('MRP of the product : %d'%(mrp))\n",
    "print('Current Selling Price : %d'%(sp))\n",
    "print('%s %s'%(wallet,offer))\n",
    "print('-------------------------Tracking Started-------------------------')\n",
    "\n",
    "matplotlib.rc('font', size=8)\n",
    "matplotlib.rc('font', family='sans-serif')\n",
    "c=1\n",
    "while(c<5):\n",
    "    site = requests.get(product_url)\n",
    "    sp = html.fromstring(site.text).xpath(\".//body/section[@class='jabong-container']/section[@class='main-content']/div[@id='product-details-wrapper']/div[@class='row product-details  ']/div[@class='full-width col-xs-12 col-sm-12 col-md-4 product-info']/div[@class='info-block']/div[@class='content']/div[@itemprop='offers']/div[@class='price discounts']/span[@class='actual-price']\")\n",
    "    sp = int(sp[0].text)\n",
    "    mrp = html.fromstring(site.text).xpath(\".//body/section[@class='jabong-container']/section[@class='main-content']/div[@id='product-details-wrapper']/div[@class='row product-details  ']/div[@class='full-width col-xs-12 col-sm-12 col-md-4 product-info']/div[@class='info-block']/div[@class='content']/div[@itemprop='offers']/div[@class='price discounts']/span[@class='standard-price  hidden']\")\n",
    "    mrp = int(mrp[0].text)\n",
    "    actual_price.append(mrp)\n",
    "    selling_price.append(sp)\n",
    "    t = time.strftime(\"%Y-%m-%d %H:%M:%S\", time.gmtime())\n",
    "    xaxis.append(t)\n",
    "    print('Current Price : %d  %s %s'%(sp, wallet, offer))\n",
    "    time.sleep(5)\n",
    "    c+=1\n",
    "\n",
    "x_pos = np.arange(len(xaxis))\n",
    "plt.title('Price Variation')\n",
    "plt.xlabel('Time')\n",
    "plt.ylabel('Price')\n",
    "plt.xticks(x_pos, xaxis, rotation=90)\n",
    "plt.plot(xaxis, actual_price , label='original')\n",
    "plt.plot(xaxis, selling_price , label='discounted', marker='o')\n",
    "plt.legend()\n",
    "plt.grid(color='lightblue', linestyle='-.')\n",
    "plt.tight_layout()\n",
    "plt.savefig('output.png', dpi=600)"
   ]
  },
  {
   "cell_type": "code",
   "execution_count": null,
   "metadata": {},
   "outputs": [],
   "source": []
  }
 ],
 "metadata": {
  "kernelspec": {
   "display_name": "Python 3",
   "language": "python",
   "name": "python3"
  },
  "language_info": {
   "codemirror_mode": {
    "name": "ipython",
    "version": 3
   },
   "file_extension": ".py",
   "mimetype": "text/x-python",
   "name": "python",
   "nbconvert_exporter": "python",
   "pygments_lexer": "ipython3",
   "version": "3.6.5"
  }
 },
 "nbformat": 4,
 "nbformat_minor": 2
}
